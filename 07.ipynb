{
  "nbformat": 4,
  "nbformat_minor": 0,
  "metadata": {
    "colab": {
      "name": "HOG.ipynb",
      "provenance": [],
      "collapsed_sections": []
    },
    "kernelspec": {
      "name": "python3",
      "display_name": "Python 3"
    },
    "widgets": {
      "application/vnd.jupyter.widget-state+json": {
        "f017de6a9cc34799832a25e7f0aa5e3a": {
          "model_module": "@jupyter-widgets/controls",
          "model_name": "HBoxModel",
          "state": {
            "_view_name": "HBoxView",
            "_dom_classes": [],
            "_model_name": "HBoxModel",
            "_view_module": "@jupyter-widgets/controls",
            "_model_module_version": "1.5.0",
            "_view_count": null,
            "_view_module_version": "1.5.0",
            "box_style": "",
            "layout": "IPY_MODEL_e56badeb94e946f8af85dd385eeaa5d0",
            "_model_module": "@jupyter-widgets/controls",
            "children": [
              "IPY_MODEL_4ef3f5561316478c92860feccf04473c",
              "IPY_MODEL_914c659bbc7944b9a30ab5b0f2672831"
            ]
          }
        },
        "e56badeb94e946f8af85dd385eeaa5d0": {
          "model_module": "@jupyter-widgets/base",
          "model_name": "LayoutModel",
          "state": {
            "_view_name": "LayoutView",
            "grid_template_rows": null,
            "right": null,
            "justify_content": null,
            "_view_module": "@jupyter-widgets/base",
            "overflow": null,
            "_model_module_version": "1.2.0",
            "_view_count": null,
            "flex_flow": null,
            "width": null,
            "min_width": null,
            "border": null,
            "align_items": null,
            "bottom": null,
            "_model_module": "@jupyter-widgets/base",
            "top": null,
            "grid_column": null,
            "overflow_y": null,
            "overflow_x": null,
            "grid_auto_flow": null,
            "grid_area": null,
            "grid_template_columns": null,
            "flex": null,
            "_model_name": "LayoutModel",
            "justify_items": null,
            "grid_row": null,
            "max_height": null,
            "align_content": null,
            "visibility": null,
            "align_self": null,
            "height": null,
            "min_height": null,
            "padding": null,
            "grid_auto_rows": null,
            "grid_gap": null,
            "max_width": null,
            "order": null,
            "_view_module_version": "1.2.0",
            "grid_template_areas": null,
            "object_position": null,
            "object_fit": null,
            "grid_auto_columns": null,
            "margin": null,
            "display": null,
            "left": null
          }
        },
        "4ef3f5561316478c92860feccf04473c": {
          "model_module": "@jupyter-widgets/controls",
          "model_name": "FloatProgressModel",
          "state": {
            "_view_name": "ProgressView",
            "style": "IPY_MODEL_8516f5c551004ebb95fc264c534ac2eb",
            "_dom_classes": [],
            "description": "100%",
            "_model_name": "FloatProgressModel",
            "bar_style": "success",
            "max": 60000,
            "_view_module": "@jupyter-widgets/controls",
            "_model_module_version": "1.5.0",
            "value": 60000,
            "_view_count": null,
            "_view_module_version": "1.5.0",
            "orientation": "horizontal",
            "min": 0,
            "description_tooltip": null,
            "_model_module": "@jupyter-widgets/controls",
            "layout": "IPY_MODEL_7a54fa84e55e4e2fbcc360f25554a1d4"
          }
        },
        "914c659bbc7944b9a30ab5b0f2672831": {
          "model_module": "@jupyter-widgets/controls",
          "model_name": "HTMLModel",
          "state": {
            "_view_name": "HTMLView",
            "style": "IPY_MODEL_1de6c68c826c44189781aa5d9eaafef5",
            "_dom_classes": [],
            "description": "",
            "_model_name": "HTMLModel",
            "placeholder": "​",
            "_view_module": "@jupyter-widgets/controls",
            "_model_module_version": "1.5.0",
            "value": " 60000/60000 [14:18&lt;00:00, 69.88it/s]",
            "_view_count": null,
            "_view_module_version": "1.5.0",
            "description_tooltip": null,
            "_model_module": "@jupyter-widgets/controls",
            "layout": "IPY_MODEL_bbe4d51eda694d69bff8540ace758dcb"
          }
        },
        "8516f5c551004ebb95fc264c534ac2eb": {
          "model_module": "@jupyter-widgets/controls",
          "model_name": "ProgressStyleModel",
          "state": {
            "_view_name": "StyleView",
            "_model_name": "ProgressStyleModel",
            "description_width": "initial",
            "_view_module": "@jupyter-widgets/base",
            "_model_module_version": "1.5.0",
            "_view_count": null,
            "_view_module_version": "1.2.0",
            "bar_color": null,
            "_model_module": "@jupyter-widgets/controls"
          }
        },
        "7a54fa84e55e4e2fbcc360f25554a1d4": {
          "model_module": "@jupyter-widgets/base",
          "model_name": "LayoutModel",
          "state": {
            "_view_name": "LayoutView",
            "grid_template_rows": null,
            "right": null,
            "justify_content": null,
            "_view_module": "@jupyter-widgets/base",
            "overflow": null,
            "_model_module_version": "1.2.0",
            "_view_count": null,
            "flex_flow": null,
            "width": null,
            "min_width": null,
            "border": null,
            "align_items": null,
            "bottom": null,
            "_model_module": "@jupyter-widgets/base",
            "top": null,
            "grid_column": null,
            "overflow_y": null,
            "overflow_x": null,
            "grid_auto_flow": null,
            "grid_area": null,
            "grid_template_columns": null,
            "flex": null,
            "_model_name": "LayoutModel",
            "justify_items": null,
            "grid_row": null,
            "max_height": null,
            "align_content": null,
            "visibility": null,
            "align_self": null,
            "height": null,
            "min_height": null,
            "padding": null,
            "grid_auto_rows": null,
            "grid_gap": null,
            "max_width": null,
            "order": null,
            "_view_module_version": "1.2.0",
            "grid_template_areas": null,
            "object_position": null,
            "object_fit": null,
            "grid_auto_columns": null,
            "margin": null,
            "display": null,
            "left": null
          }
        },
        "1de6c68c826c44189781aa5d9eaafef5": {
          "model_module": "@jupyter-widgets/controls",
          "model_name": "DescriptionStyleModel",
          "state": {
            "_view_name": "StyleView",
            "_model_name": "DescriptionStyleModel",
            "description_width": "",
            "_view_module": "@jupyter-widgets/base",
            "_model_module_version": "1.5.0",
            "_view_count": null,
            "_view_module_version": "1.2.0",
            "_model_module": "@jupyter-widgets/controls"
          }
        },
        "bbe4d51eda694d69bff8540ace758dcb": {
          "model_module": "@jupyter-widgets/base",
          "model_name": "LayoutModel",
          "state": {
            "_view_name": "LayoutView",
            "grid_template_rows": null,
            "right": null,
            "justify_content": null,
            "_view_module": "@jupyter-widgets/base",
            "overflow": null,
            "_model_module_version": "1.2.0",
            "_view_count": null,
            "flex_flow": null,
            "width": null,
            "min_width": null,
            "border": null,
            "align_items": null,
            "bottom": null,
            "_model_module": "@jupyter-widgets/base",
            "top": null,
            "grid_column": null,
            "overflow_y": null,
            "overflow_x": null,
            "grid_auto_flow": null,
            "grid_area": null,
            "grid_template_columns": null,
            "flex": null,
            "_model_name": "LayoutModel",
            "justify_items": null,
            "grid_row": null,
            "max_height": null,
            "align_content": null,
            "visibility": null,
            "align_self": null,
            "height": null,
            "min_height": null,
            "padding": null,
            "grid_auto_rows": null,
            "grid_gap": null,
            "max_width": null,
            "order": null,
            "_view_module_version": "1.2.0",
            "grid_template_areas": null,
            "object_position": null,
            "object_fit": null,
            "grid_auto_columns": null,
            "margin": null,
            "display": null,
            "left": null
          }
        },
        "f8520c67978444f189fe1e25072c2f6f": {
          "model_module": "@jupyter-widgets/controls",
          "model_name": "HBoxModel",
          "state": {
            "_view_name": "HBoxView",
            "_dom_classes": [],
            "_model_name": "HBoxModel",
            "_view_module": "@jupyter-widgets/controls",
            "_model_module_version": "1.5.0",
            "_view_count": null,
            "_view_module_version": "1.5.0",
            "box_style": "",
            "layout": "IPY_MODEL_c525d43b700c4fde8cf8b7e0aff69c77",
            "_model_module": "@jupyter-widgets/controls",
            "children": [
              "IPY_MODEL_7baf0bf8fe184db6b42aff59fbb528d2",
              "IPY_MODEL_dac473c2e025443991cfe24615b831d4"
            ]
          }
        },
        "c525d43b700c4fde8cf8b7e0aff69c77": {
          "model_module": "@jupyter-widgets/base",
          "model_name": "LayoutModel",
          "state": {
            "_view_name": "LayoutView",
            "grid_template_rows": null,
            "right": null,
            "justify_content": null,
            "_view_module": "@jupyter-widgets/base",
            "overflow": null,
            "_model_module_version": "1.2.0",
            "_view_count": null,
            "flex_flow": null,
            "width": null,
            "min_width": null,
            "border": null,
            "align_items": null,
            "bottom": null,
            "_model_module": "@jupyter-widgets/base",
            "top": null,
            "grid_column": null,
            "overflow_y": null,
            "overflow_x": null,
            "grid_auto_flow": null,
            "grid_area": null,
            "grid_template_columns": null,
            "flex": null,
            "_model_name": "LayoutModel",
            "justify_items": null,
            "grid_row": null,
            "max_height": null,
            "align_content": null,
            "visibility": null,
            "align_self": null,
            "height": null,
            "min_height": null,
            "padding": null,
            "grid_auto_rows": null,
            "grid_gap": null,
            "max_width": null,
            "order": null,
            "_view_module_version": "1.2.0",
            "grid_template_areas": null,
            "object_position": null,
            "object_fit": null,
            "grid_auto_columns": null,
            "margin": null,
            "display": null,
            "left": null
          }
        },
        "7baf0bf8fe184db6b42aff59fbb528d2": {
          "model_module": "@jupyter-widgets/controls",
          "model_name": "FloatProgressModel",
          "state": {
            "_view_name": "ProgressView",
            "style": "IPY_MODEL_2443a54cfb3d4ad088501ec41b53a28a",
            "_dom_classes": [],
            "description": "100%",
            "_model_name": "FloatProgressModel",
            "bar_style": "success",
            "max": 10000,
            "_view_module": "@jupyter-widgets/controls",
            "_model_module_version": "1.5.0",
            "value": 10000,
            "_view_count": null,
            "_view_module_version": "1.5.0",
            "orientation": "horizontal",
            "min": 0,
            "description_tooltip": null,
            "_model_module": "@jupyter-widgets/controls",
            "layout": "IPY_MODEL_6026bc7e13804fcdbbfbce72f44942f4"
          }
        },
        "dac473c2e025443991cfe24615b831d4": {
          "model_module": "@jupyter-widgets/controls",
          "model_name": "HTMLModel",
          "state": {
            "_view_name": "HTMLView",
            "style": "IPY_MODEL_5ee1a9d98715430498a72c3282249136",
            "_dom_classes": [],
            "description": "",
            "_model_name": "HTMLModel",
            "placeholder": "​",
            "_view_module": "@jupyter-widgets/controls",
            "_model_module_version": "1.5.0",
            "value": " 10000/10000 [02:21&lt;00:00, 70.68it/s]",
            "_view_count": null,
            "_view_module_version": "1.5.0",
            "description_tooltip": null,
            "_model_module": "@jupyter-widgets/controls",
            "layout": "IPY_MODEL_02281522121247ec9c8b5a0d0d0981d2"
          }
        },
        "2443a54cfb3d4ad088501ec41b53a28a": {
          "model_module": "@jupyter-widgets/controls",
          "model_name": "ProgressStyleModel",
          "state": {
            "_view_name": "StyleView",
            "_model_name": "ProgressStyleModel",
            "description_width": "initial",
            "_view_module": "@jupyter-widgets/base",
            "_model_module_version": "1.5.0",
            "_view_count": null,
            "_view_module_version": "1.2.0",
            "bar_color": null,
            "_model_module": "@jupyter-widgets/controls"
          }
        },
        "6026bc7e13804fcdbbfbce72f44942f4": {
          "model_module": "@jupyter-widgets/base",
          "model_name": "LayoutModel",
          "state": {
            "_view_name": "LayoutView",
            "grid_template_rows": null,
            "right": null,
            "justify_content": null,
            "_view_module": "@jupyter-widgets/base",
            "overflow": null,
            "_model_module_version": "1.2.0",
            "_view_count": null,
            "flex_flow": null,
            "width": null,
            "min_width": null,
            "border": null,
            "align_items": null,
            "bottom": null,
            "_model_module": "@jupyter-widgets/base",
            "top": null,
            "grid_column": null,
            "overflow_y": null,
            "overflow_x": null,
            "grid_auto_flow": null,
            "grid_area": null,
            "grid_template_columns": null,
            "flex": null,
            "_model_name": "LayoutModel",
            "justify_items": null,
            "grid_row": null,
            "max_height": null,
            "align_content": null,
            "visibility": null,
            "align_self": null,
            "height": null,
            "min_height": null,
            "padding": null,
            "grid_auto_rows": null,
            "grid_gap": null,
            "max_width": null,
            "order": null,
            "_view_module_version": "1.2.0",
            "grid_template_areas": null,
            "object_position": null,
            "object_fit": null,
            "grid_auto_columns": null,
            "margin": null,
            "display": null,
            "left": null
          }
        },
        "5ee1a9d98715430498a72c3282249136": {
          "model_module": "@jupyter-widgets/controls",
          "model_name": "DescriptionStyleModel",
          "state": {
            "_view_name": "StyleView",
            "_model_name": "DescriptionStyleModel",
            "description_width": "",
            "_view_module": "@jupyter-widgets/base",
            "_model_module_version": "1.5.0",
            "_view_count": null,
            "_view_module_version": "1.2.0",
            "_model_module": "@jupyter-widgets/controls"
          }
        },
        "02281522121247ec9c8b5a0d0d0981d2": {
          "model_module": "@jupyter-widgets/base",
          "model_name": "LayoutModel",
          "state": {
            "_view_name": "LayoutView",
            "grid_template_rows": null,
            "right": null,
            "justify_content": null,
            "_view_module": "@jupyter-widgets/base",
            "overflow": null,
            "_model_module_version": "1.2.0",
            "_view_count": null,
            "flex_flow": null,
            "width": null,
            "min_width": null,
            "border": null,
            "align_items": null,
            "bottom": null,
            "_model_module": "@jupyter-widgets/base",
            "top": null,
            "grid_column": null,
            "overflow_y": null,
            "overflow_x": null,
            "grid_auto_flow": null,
            "grid_area": null,
            "grid_template_columns": null,
            "flex": null,
            "_model_name": "LayoutModel",
            "justify_items": null,
            "grid_row": null,
            "max_height": null,
            "align_content": null,
            "visibility": null,
            "align_self": null,
            "height": null,
            "min_height": null,
            "padding": null,
            "grid_auto_rows": null,
            "grid_gap": null,
            "max_width": null,
            "order": null,
            "_view_module_version": "1.2.0",
            "grid_template_areas": null,
            "object_position": null,
            "object_fit": null,
            "grid_auto_columns": null,
            "margin": null,
            "display": null,
            "left": null
          }
        }
      }
    }
  },
  "cells": [
    {
      "cell_type": "markdown",
      "metadata": {
        "id": "2fk27iq9J3hp"
      },
      "source": [
        "##**Digit classification using HOG features**"
      ]
    },
    {
      "cell_type": "markdown",
      "metadata": {
        "id": "CKx-oKwXKEOR"
      },
      "source": [
        "## **Introduction:**<br>\n",
        "Object classification is an important task in many computer vision applications, including surveillance, automotive safety, and image retrieval. For example, in an automotive safety application, you may need to classify nearby objects as pedestrians or vehicles. Regardless of the type of object being classified, the basic procedure for creating an object classifier is:\n",
        "\n",
        "- Acquire a labeled data set with images of the desired object.\n",
        "- Partition the data set into a training set and a test set.\n",
        "- Train the classifier using features extracted from the training set.\n",
        "- Test the classifier using features extracted from the test set\n",
        "\n",
        "## **Objective**<br>\n",
        "In this lab you will learn how to classify numerical digits using HOG (Histogram of Oriented Gradient) features and several multiclass classifiers, and compare the performance measures.\n",
        "\n",
        "The MNIST database (Modified National Institute of Standards and Technology database) is a large database of handwritten digits that is commonly used for training various image processing systems. \n",
        "\n",
        "Download the data set of handwritten images at this link http://yann.lecun.com/exdb/mnist/\n",
        "\n",
        "Following files contain training and test images\n",
        "- [train-images-idx3-ubyte.gz](http://yann.lecun.com/exdb/mnist/train-images-idx3-ubyte.gz):  training set images (9912422 bytes) \n",
        "- [train-labels-idx1-ubyte.gz](http://yann.lecun.com/exdb/mnist/train-labels-idx1-ubyte.gz):  training set labels (28881 bytes) \n",
        "- [t10k-images-idx3-ubyte.gz](http://yann.lecun.com/exdb/mnist/t10k-images-idx3-ubyte.gz):   test set images (1648877 bytes) \n",
        "- [t10k-labels-idx1-ubyte.gz](http://yann.lecun.com/exdb/mnist/t10k-labels-idx1-ubyte.gz):   test set labels (4542 bytes)\n",
        "\n",
        "\n",
        "## **Tasks:**<br>\n",
        "1.\tGet the MNIST dataset of handwritten digits.\n",
        "2.\tFor each handwritten digit in the database, extract HOG features and train a Linear SVM.\n",
        "3.\tUse the classifier trained in step 2 to predict digits.\n",
        "\n"
      ]
    },
    {
      "cell_type": "markdown",
      "metadata": {
        "id": "FWHnVg7wiOUT"
      },
      "source": [
        "## **Dependencies**\n",
        "\n",
        "Following are the package required for using this notebook\n",
        "- numpy\n",
        "- tqdm\n",
        "- opencv-python\n",
        "- matplotlib\n",
        "- scikit-image\n",
        "- pandas\n"
      ]
    },
    {
      "cell_type": "markdown",
      "metadata": {
        "id": "ddFk1RY8L25Z"
      },
      "source": [
        "## **Downloading data** <br>\n",
        "1. In your local system, you can manually downlaod all the train and test files and place in the \"Dataset\" folder.\n",
        "2. You can also work in colab and use following commands to download data files. (Alternatively, you can store your files in Google Drive and read it from there). "
      ]
    },
    {
      "cell_type": "code",
      "metadata": {
        "id": "fe7K8ji5OXAI"
      },
      "source": [
        "import numpy as np\n",
        "import gzip\n",
        "import struct\n",
        "import cv2\n",
        "%matplotlib inline\n",
        "import matplotlib.pyplot as plt"
      ],
      "execution_count": 1,
      "outputs": []
    },
    {
      "cell_type": "code",
      "metadata": {
        "colab": {
          "base_uri": "https://localhost:8080/"
        },
        "id": "FJZYR0MzKHF7",
        "outputId": "7f2b1249-2e2f-4dd6-8f1a-d9b5a8e295c9"
      },
      "source": [
        "# make directory\n",
        "!mkdir Dataset\n",
        "# change directory\n",
        "%cd Dataset/\n",
        "\n",
        "#download files in Dataset folder\n",
        "!wget http://yann.lecun.com/exdb/mnist/train-images-idx3-ubyte.gz\n",
        "!wget http://yann.lecun.com/exdb/mnist/train-labels-idx1-ubyte.gz\n",
        "!wget http://yann.lecun.com/exdb/mnist/t10k-images-idx3-ubyte.gz\n",
        "!wget http://yann.lecun.com/exdb/mnist/t10k-labels-idx1-ubyte.gz\n",
        "\n",
        "#go back to previous directory\n",
        "%cd .."
      ],
      "execution_count": 2,
      "outputs": [
        {
          "output_type": "stream",
          "text": [
            "/content/Dataset\n",
            "--2020-12-01 14:00:51--  http://yann.lecun.com/exdb/mnist/train-images-idx3-ubyte.gz\n",
            "Resolving yann.lecun.com (yann.lecun.com)... 172.67.171.76, 104.28.7.204, 104.28.6.204, ...\n",
            "Connecting to yann.lecun.com (yann.lecun.com)|172.67.171.76|:80... connected.\n",
            "HTTP request sent, awaiting response... 200 OK\n",
            "Length: 9912422 (9.5M) [application/x-gzip]\n",
            "Saving to: ‘train-images-idx3-ubyte.gz’\n",
            "\n",
            "train-images-idx3-u 100%[===================>]   9.45M  59.1MB/s    in 0.2s    \n",
            "\n",
            "2020-12-01 14:00:51 (59.1 MB/s) - ‘train-images-idx3-ubyte.gz’ saved [9912422/9912422]\n",
            "\n",
            "--2020-12-01 14:00:51--  http://yann.lecun.com/exdb/mnist/train-labels-idx1-ubyte.gz\n",
            "Resolving yann.lecun.com (yann.lecun.com)... 172.67.171.76, 104.28.7.204, 104.28.6.204, ...\n",
            "Connecting to yann.lecun.com (yann.lecun.com)|172.67.171.76|:80... connected.\n",
            "HTTP request sent, awaiting response... 200 OK\n",
            "Length: 28881 (28K) [application/x-gzip]\n",
            "Saving to: ‘train-labels-idx1-ubyte.gz’\n",
            "\n",
            "train-labels-idx1-u 100%[===================>]  28.20K  --.-KB/s    in 0.01s   \n",
            "\n",
            "2020-12-01 14:00:51 (2.01 MB/s) - ‘train-labels-idx1-ubyte.gz’ saved [28881/28881]\n",
            "\n",
            "--2020-12-01 14:00:51--  http://yann.lecun.com/exdb/mnist/t10k-images-idx3-ubyte.gz\n",
            "Resolving yann.lecun.com (yann.lecun.com)... 172.67.171.76, 104.28.7.204, 104.28.6.204, ...\n",
            "Connecting to yann.lecun.com (yann.lecun.com)|172.67.171.76|:80... connected.\n",
            "HTTP request sent, awaiting response... 200 OK\n",
            "Length: 1648877 (1.6M) [application/x-gzip]\n",
            "Saving to: ‘t10k-images-idx3-ubyte.gz’\n",
            "\n",
            "t10k-images-idx3-ub 100%[===================>]   1.57M  --.-KB/s    in 0.1s    \n",
            "\n",
            "2020-12-01 14:00:51 (15.1 MB/s) - ‘t10k-images-idx3-ubyte.gz’ saved [1648877/1648877]\n",
            "\n",
            "--2020-12-01 14:00:51--  http://yann.lecun.com/exdb/mnist/t10k-labels-idx1-ubyte.gz\n",
            "Resolving yann.lecun.com (yann.lecun.com)... 172.67.171.76, 104.28.7.204, 104.28.6.204, ...\n",
            "Connecting to yann.lecun.com (yann.lecun.com)|172.67.171.76|:80... connected.\n",
            "HTTP request sent, awaiting response... 200 OK\n",
            "Length: 4542 (4.4K) [application/x-gzip]\n",
            "Saving to: ‘t10k-labels-idx1-ubyte.gz’\n",
            "\n",
            "t10k-labels-idx1-ub 100%[===================>]   4.44K  --.-KB/s    in 0s      \n",
            "\n",
            "2020-12-01 14:00:51 (441 MB/s) - ‘t10k-labels-idx1-ubyte.gz’ saved [4542/4542]\n",
            "\n",
            "/content\n"
          ],
          "name": "stdout"
        }
      ]
    },
    {
      "cell_type": "markdown",
      "metadata": {
        "id": "yGT1kV-VNxQm"
      },
      "source": [
        "## **Load Data**<br>\n",
        "Below is the helper function to load MNIST digit classification dataset."
      ]
    },
    {
      "cell_type": "code",
      "metadata": {
        "id": "ouxA7SL4NUHh"
      },
      "source": [
        "def read_data(label, image):\n",
        "  with gzip.open(label, 'rb') as flbl:\n",
        "    magic, num = struct.unpack(\">II\", flbl.read(8))\n",
        "    label = np.frombuffer (flbl.read(), dtype=np.int8)\n",
        "  with gzip.open(image, 'rb') as fimg:\n",
        "    magic, num, rows, cols = struct.unpack(\">IIII\", fimg.read(16))\n",
        "    image = np.frombuffer (fimg.read(), dtype=np.uint8).reshape(len(label), rows, cols)\n",
        "  return (label, image)"
      ],
      "execution_count": 3,
      "outputs": []
    },
    {
      "cell_type": "code",
      "metadata": {
        "colab": {
          "base_uri": "https://localhost:8080/"
        },
        "id": "fn77R6oxOKk7",
        "outputId": "1bae0351-e2f1-483d-faf8-46d19d8a5600"
      },
      "source": [
        "(train_lbl, train_img) = read_data(r'./Dataset/train-labels-idx1-ubyte.gz', \n",
        "                                   r'./Dataset/train-images-idx3-ubyte.gz')\n",
        "(test_lbl, test_img) = read_data(r'./Dataset/t10k-labels-idx1-ubyte.gz', \n",
        "                                   r'./Dataset/t10k-images-idx3-ubyte.gz')\n",
        "\n",
        "print(\"Training Samples : \" +  str(len(train_img)))\n",
        "print(\"Test Samples : \" +  str(len(test_img)))\n",
        "train_img[0].shape\n",
        "\n",
        "print(train_lbl)\n",
        "print(test_lbl)"
      ],
      "execution_count": 4,
      "outputs": [
        {
          "output_type": "stream",
          "text": [
            "Training Samples : 60000\n",
            "Test Samples : 10000\n",
            "[5 0 4 ... 5 6 8]\n",
            "[7 2 1 ... 4 5 6]\n"
          ],
          "name": "stdout"
        }
      ]
    },
    {
      "cell_type": "markdown",
      "metadata": {
        "id": "9n3Q-PBPOo8Y"
      },
      "source": [
        "**Visualize Dataset**:\n",
        "\n",
        "Lets print some of the training and test images along with their respective labels for verification"
      ]
    },
    {
      "cell_type": "code",
      "metadata": {
        "colab": {
          "base_uri": "https://localhost:8080/",
          "height": 406
        },
        "id": "c6G9zOauOPYL",
        "outputId": "cb62c348-2409-4af2-d2ff-2de236b545c5"
      },
      "source": [
        "for i in range(20):\n",
        "    plt.subplot(2,10,i+1)\n",
        "    plt.imshow(train_img[i])\n",
        "    plt.axis('off')\n",
        "plt.show()\n",
        "print('Training label: %s' % (train_lbl[0:10],))\n",
        "print('Training label: %s' % (train_lbl[10:20],))\n",
        "\n",
        "for i in range(20):  \n",
        "    plt.subplot(2,10,i+1)\n",
        "    plt.imshow(test_img[i])\n",
        "    plt.axis('off')\n",
        "plt.show()\n",
        "print('Test label: %s' % (test_lbl[0:10],))\n",
        "print('Testlabel: %s' % (test_lbl[10:20],))"
      ],
      "execution_count": 5,
      "outputs": [
        {
          "output_type": "display_data",
          "data": {
            "image/png": "[encoded data removed]",
            "text/plain": [
              "<Figure size 432x288 with 20 Axes>"
            ]
          },
          "metadata": {
            "tags": [],
            "needs_background": "light"
          }
        },
        {
          "output_type": "stream",
          "text": [
            "Training label: [5 0 4 1 9 2 1 3 1 4]\n",
            "Training label: [3 5 3 6 1 7 2 8 6 9]\n"
          ],
          "name": "stdout"
        },
        {
          "output_type": "display_data",
          "data": {
            "image/png": "[encoded data removed]",
            "text/plain": [
              "<Figure size 432x288 with 20 Axes>"
            ]
          },
          "metadata": {
            "tags": [],
            "needs_background": "light"
          }
        },
        {
          "output_type": "stream",
          "text": [
            "Test label: [7 2 1 0 4 1 4 9 5 9]\n",
            "Testlabel: [0 6 9 0 1 5 9 7 3 4]\n"
          ],
          "name": "stdout"
        }
      ]
    },
    {
      "cell_type": "markdown",
      "metadata": {
        "id": "5Y0MAF9ZPIQY"
      },
      "source": [
        "**Computing HoG features**<br>\n",
        "- Load the 'train_img_count' training images\n",
        "- Loop through the images to Compute HOG features for each of the digit image\n",
        "- Get the respective labels\n",
        "\n",
        "Python library skimage is used to compute the HOG features. Have a look at the documentation of function features.hog here (https://kite.com/python/docs/skimage.feature.hog)\n",
        "\n",
        "A number of feature detectors implementation is availabe in this package. The documentation can be seen here (https://scikit-image.org/docs/dev/api/skimage.feature.html)"
      ]
    },
    {
      "cell_type": "code",
      "metadata": {
        "colab": {
          "base_uri": "https://localhost:8080/",
          "height": 66,
          "referenced_widgets": [
            "f017de6a9cc34799832a25e7f0aa5e3a",
            "e56badeb94e946f8af85dd385eeaa5d0",
            "4ef3f5561316478c92860feccf04473c",
            "914c659bbc7944b9a30ab5b0f2672831",
            "8516f5c551004ebb95fc264c534ac2eb",
            "7a54fa84e55e4e2fbcc360f25554a1d4",
            "1de6c68c826c44189781aa5d9eaafef5",
            "bbe4d51eda694d69bff8540ace758dcb"
          ]
        },
        "id": "rLHYI11zO2RD",
        "outputId": "55975df3-0439-4faf-fe3d-116d7e8edb75"
      },
      "source": [
        "from skimage import feature\n",
        "from skimage import exposure\n",
        "from tqdm.notebook import tqdm\n",
        "\n",
        "#initialize list that contains training images\n",
        "train_data = []\n",
        "# count of all training images to use in loop\n",
        "train_img_count = len(train_lbl)\n",
        "\n",
        "def compute_HOG(image):\n",
        "  (H1, hogImage1) = feature.hog(image, orientations = 3,\n",
        "                                pixels_per_cell  = (2, 2), cells_per_block  = (2, 2), transform_sqrt=True,\n",
        "                                block_norm  = 'L1' , visualize=True)\n",
        "  return (H1, hogImage1)\n",
        "\n",
        "# loop over the images\n",
        "for i in tqdm(range(0,train_img_count)):\n",
        "  # pre-process image here if needed\n",
        "  # Computing the HOG features. Also Keep and eye on the parameters used in this function call.\n",
        "  (h_vector, h_image) = compute_HOG(train_img[i])\n",
        "  #append computed HOGs in train data\n",
        "  train_data.append(h_vector)\n",
        "\n",
        "#get train labels\n",
        "train_label = train_lbl[0:train_img_count]"
      ],
      "execution_count": 6,
      "outputs": [
        {
          "output_type": "display_data",
          "data": {
            "application/vnd.jupyter.widget-view+json": {
              "model_id": "f017de6a9cc34799832a25e7f0aa5e3a",
              "version_minor": 0,
              "version_major": 2
            },
            "text/plain": [
              "HBox(children=(FloatProgress(value=0.0, max=60000.0), HTML(value='')))"
            ]
          },
          "metadata": {
            "tags": []
          }
        },
        {
          "output_type": "stream",
          "text": [
            "\n"
          ],
          "name": "stdout"
        }
      ]
    },
    {
      "cell_type": "markdown",
      "metadata": {
        "id": "Ba1D4biXWZMu"
      },
      "source": [
        "**Visualize an example of computed HOG**"
      ]
    },
    {
      "cell_type": "code",
      "metadata": {
        "colab": {
          "base_uri": "https://localhost:8080/",
          "height": 284
        },
        "id": "87o1n4NfVQpv",
        "outputId": "8fa8c282-701d-4bdc-bb94-b992fd11e2e1"
      },
      "source": [
        "fig, (ax1, ax2) = plt.subplots(1, 2, figsize=(8, 4), sharex=True, sharey=True)\n",
        "\n",
        "ax1.axis('off')\n",
        "ax1.imshow(train_img[i], cmap=plt.cm.gray) #i==499\n",
        "ax1.set_title('Input image')\n",
        "\n",
        "# Rescale histogram for better display\n",
        "hog_image_rescaled = exposure.rescale_intensity(h_image, in_range=(0, 255))\n",
        "\n",
        "ax2.axis('off')\n",
        "ax2.imshow(hog_image_rescaled)\n",
        "ax2.set_title('Histogram of Oriented Gradients')\n",
        "plt.show()\n",
        "\n",
        "# length of computed feature vector\n",
        "print(\"Length of computed vector\\n\",len(h_vector))"
      ],
      "execution_count": 7,
      "outputs": [
        {
          "output_type": "display_data",
          "data": {
            "image/png": "[encoded data removed]",
            "text/plain": [
              "<Figure size 576x288 with 2 Axes>"
            ]
          },
          "metadata": {
            "tags": [],
            "needs_background": "light"
          }
        },
        {
          "output_type": "stream",
          "text": [
            "Length of computed vector\n",
            " 2028\n"
          ],
          "name": "stdout"
        }
      ]
    },
    {
      "cell_type": "markdown",
      "metadata": {
        "id": "ERtRD6SOZPbT"
      },
      "source": [
        "**Training**"
      ]
    },
    {
      "cell_type": "code",
      "metadata": {
        "colab": {
          "base_uri": "https://localhost:8080/"
        },
        "id": "9iKf36hSWVzD",
        "outputId": "6cac4c39-e936-4d14-c5fd-fc29374d7f6f"
      },
      "source": [
        "#train_data --> contains vector histogram of train images\n",
        "#train_labels --> contains labels of train images\n",
        "#test_data --> contains histogram of test images\n",
        "#test_label --> contains labels of test\n",
        "\n",
        "from sklearn.svm import LinearSVC\n",
        "\n",
        "# load linear SVM\n",
        "modelSVC = LinearSVC(max_iter=3000)\n",
        "modelSVC.fit(train_data, train_label)\n",
        "print(\"SVC training completed\")"
      ],
      "execution_count": 8,
      "outputs": [
        {
          "output_type": "stream",
          "text": [
            "SVC training completed\n"
          ],
          "name": "stdout"
        }
      ]
    },
    {
      "cell_type": "markdown",
      "metadata": {
        "id": "7YojwQWyaQcT"
      },
      "source": [
        "**Testing**\n",
        "<br>\n",
        "Lets prepare testing data before evaluations and predictions"
      ]
    },
    {
      "cell_type": "code",
      "metadata": {
        "colab": {
          "base_uri": "https://localhost:8080/",
          "height": 66,
          "referenced_widgets": [
            "f8520c67978444f189fe1e25072c2f6f",
            "c525d43b700c4fde8cf8b7e0aff69c77",
            "7baf0bf8fe184db6b42aff59fbb528d2",
            "dac473c2e025443991cfe24615b831d4",
            "2443a54cfb3d4ad088501ec41b53a28a",
            "6026bc7e13804fcdbbfbce72f44942f4",
            "5ee1a9d98715430498a72c3282249136",
            "02281522121247ec9c8b5a0d0d0981d2"
          ]
        },
        "id": "Bo1oVTfCZ-Xj",
        "outputId": "72fb33d1-40e2-4da7-dbc7-955a4086b64d"
      },
      "source": [
        "from tqdm.notebook import tqdm\n",
        "test_data = []\n",
        "test_img_count = len(test_img)\n",
        "\n",
        "# loop over the images\n",
        "for i in tqdm(range(test_img_count)):\n",
        "  # pre-process image here if needed\n",
        "  # Computing the HOG features. Also Keep and eye on the parameters used in this function call.\n",
        "  (h_vector, h_image) = compute_HOG(test_img[i])\n",
        "  #append computed HOGs in train data\n",
        "  test_data.append(h_vector)\n",
        "\n",
        "#get labels\n",
        "test_labels = test_lbl[0:test_img_count]"
      ],
      "execution_count": 9,
      "outputs": [
        {
          "output_type": "display_data",
          "data": {
            "application/vnd.jupyter.widget-view+json": {
              "model_id": "f8520c67978444f189fe1e25072c2f6f",
              "version_minor": 0,
              "version_major": 2
            },
            "text/plain": [
              "HBox(children=(FloatProgress(value=0.0, max=10000.0), HTML(value='')))"
            ]
          },
          "metadata": {
            "tags": []
          }
        },
        {
          "output_type": "stream",
          "text": [
            "\n"
          ],
          "name": "stdout"
        }
      ]
    },
    {
      "cell_type": "code",
      "metadata": {
        "colab": {
          "base_uri": "https://localhost:8080/"
        },
        "id": "dEcQ7uuHbEf-",
        "outputId": "f002cbac-66ec-40f2-de9b-7ad7ddf4cd1f"
      },
      "source": [
        "# Create predictions\n",
        "predicted_labels = modelSVC.predict(test_data)\n",
        "print(\"Prediction completed\")\n",
        "# uncomment below lines to get the predicted labesl and the actural labels printed.\n",
        "print(\"Comparing predicted and actual labels\")\n",
        "print(predicted_labels[0:10])\n",
        "print(test_labels[0:10])"
      ],
      "execution_count": 10,
      "outputs": [
        {
          "output_type": "stream",
          "text": [
            "Prediction completed\n",
            "Comparing predicted and actual labels\n",
            "[7 2 1 0 4 1 4 9 5 9]\n",
            "[7 2 1 0 4 1 4 9 5 9]\n"
          ],
          "name": "stdout"
        }
      ]
    },
    {
      "cell_type": "markdown",
      "metadata": {
        "id": "7ip2l1X-dIe9"
      },
      "source": [
        "**Computing performance measures**<br>\n",
        "ConfusionMatrix from pandas_ml python library/package is used to evaluate the performance of digit classification task. Documentation can be seen here (https://pandas-ml.readthedocs.io/en/latest/conf_mat.html)"
      ]
    },
    {
      "cell_type": "code",
      "metadata": {
        "colab": {
          "base_uri": "https://localhost:8080/"
        },
        "id": "6CL4-nWUbOsx",
        "outputId": "2a02dfae-3dc6-43fc-ada8-527e9e9b3f75"
      },
      "source": [
        "mask = predicted_labels==test_labels\n",
        "correct = np.count_nonzero(mask)\n",
        "print (correct*100.0/predicted_labels.size)\n",
        "result = predicted_labels.astype(int)"
      ],
      "execution_count": 11,
      "outputs": [
        {
          "output_type": "stream",
          "text": [
            "97.86\n"
          ],
          "name": "stdout"
        }
      ]
    },
    {
      "cell_type": "markdown",
      "metadata": {
        "id": "IOp4jMtFgJY5"
      },
      "source": [
        "**Confusion Matrix**<br>\n",
        "A confusion matrix is a table that is often used to describe the performance of a classification model (or \"classifier\") on a set of test data\n",
        "\n",
        "We will use pandas package for creating confusion Matrix"
      ]
    },
    {
      "cell_type": "code",
      "metadata": {
        "colab": {
          "base_uri": "https://localhost:8080/"
        },
        "id": "4WSFbVbIdUeF",
        "outputId": "54f59111-9768-402e-b93e-b8da59fa3a20"
      },
      "source": [
        "import pandas as pd\n",
        "act = pd.Series(test_labels,name='Actual')\n",
        "pred = pd.Series(predicted_labels,name='Predicted')\n",
        "confusion_matrix = pd.crosstab(act, pred,margins=True)\n",
        "print(\"Confusion matrix:\\n%s\" % confusion_matrix)"
      ],
      "execution_count": 12,
      "outputs": [
        {
          "output_type": "stream",
          "text": [
            "Confusion matrix:\n",
            "Predicted    0     1     2     3    4    5    6     7    8     9    All\n",
            "Actual                                                                 \n",
            "0          973     0     1     0    0    1    3     0    2     0    980\n",
            "1            0  1125     3     2    0    0    1     1    3     0   1135\n",
            "2            4     4  1008     3    0    0    2     7    4     0   1032\n",
            "3            1     0     1   986    0    9    0     5    7     1   1010\n",
            "4            1     0     0     1  955    0    4     2    3    16    982\n",
            "5            2     0     1     6    0  874    2     1    5     1    892\n",
            "6            2     3     0     0    1    2  946     0    3     1    958\n",
            "7            0     2     9     3    2    1    0  1003    1     7   1028\n",
            "8            3     0     4     3    5    2    2     4  945     6    974\n",
            "9            4     3     2     4    9    2    1     8    5   971   1009\n",
            "All        990  1137  1029  1008  972  891  961  1031  978  1003  10000\n"
          ],
          "name": "stdout"
        }
      ]
    },
    {
      "cell_type": "markdown",
      "metadata": {
        "id": "DW0LFmQFhGR9"
      },
      "source": [
        "Plotting above created Confusion Matrix"
      ]
    },
    {
      "cell_type": "code",
      "metadata": {
        "colab": {
          "base_uri": "https://localhost:8080/",
          "height": 264
        },
        "id": "nkfJhvEMgl6H",
        "outputId": "c4f9ee27-d97b-4a48-e457-03e34ba259bd"
      },
      "source": [
        "def plot_confusion_matrix(df_confusion, title='Confusion matrix', cmap=plt.cm.YlOrRd):\n",
        "  plt.matshow(df_confusion, cmap=cmap) # imshow\n",
        "  plt.colorbar()\n",
        "  tick_marks = np.arange(len(df_confusion.columns))\n",
        "  plt.xticks(tick_marks, df_confusion.columns, rotation=45)\n",
        "  plt.yticks(tick_marks, df_confusion.index)\n",
        "  plt.ylabel(df_confusion.index.name)\n",
        "  plt.xlabel(df_confusion.columns.name)\n",
        "#call function\n",
        "plot_confusion_matrix(confusion_matrix)"
      ],
      "execution_count": 13,
      "outputs": [
        {
          "output_type": "display_data",
          "data": {
            "image/png": "[encoded data removed]",
            "text/plain": [
              "<Figure size 288x288 with 2 Axes>"
            ]
          },
          "metadata": {
            "tags": [],
            "needs_background": "light"
          }
        }
      ]
    },
    {
      "cell_type": "markdown",
      "metadata": {
        "id": "FWm5Ak5bgOMi"
      },
      "source": [
        "**Classification Report**<br>\n",
        "Build a text report showing the main classification metrics.<br>More on https://scikit-learn.org/stable/modules/generated/sklearn.metrics.classification_report.html"
      ]
    },
    {
      "cell_type": "code",
      "metadata": {
        "colab": {
          "base_uri": "https://localhost:8080/"
        },
        "id": "98CbD9eidYe-",
        "outputId": "2340b899-8747-4545-9653-ec2049544dac"
      },
      "source": [
        "from sklearn.metrics import classification_report\n",
        "print(classification_report(test_labels, predicted_labels, target_names=[\"0\",\"1\",\"2\",\"3\",\"4\",\"5\",\"6\",\"7\",\"8\",\"9\"]))"
      ],
      "execution_count": 14,
      "outputs": [
        {
          "output_type": "stream",
          "text": [
            "              precision    recall  f1-score   support\n",
            "\n",
            "           0       0.98      0.99      0.99       980\n",
            "           1       0.99      0.99      0.99      1135\n",
            "           2       0.98      0.98      0.98      1032\n",
            "           3       0.98      0.98      0.98      1010\n",
            "           4       0.98      0.97      0.98       982\n",
            "           5       0.98      0.98      0.98       892\n",
            "           6       0.98      0.99      0.99       958\n",
            "           7       0.97      0.98      0.97      1028\n",
            "           8       0.97      0.97      0.97       974\n",
            "           9       0.97      0.96      0.97      1009\n",
            "\n",
            "    accuracy                           0.98     10000\n",
            "   macro avg       0.98      0.98      0.98     10000\n",
            "weighted avg       0.98      0.98      0.98     10000\n",
            "\n"
          ],
          "name": "stdout"
        }
      ]
    },
    {
      "cell_type": "markdown",
      "metadata": {
        "id": "QxohEMC7j66B"
      },
      "source": [
        "Classifying a single example"
      ]
    },
    {
      "cell_type": "code",
      "metadata": {
        "colab": {
          "base_uri": "https://localhost:8080/",
          "height": 318
        },
        "id": "Y5VJAktXjmAe",
        "outputId": "541592bb-eaf6-4561-8c64-60499789cdbb"
      },
      "source": [
        "# set index out of 10000 test images\n",
        "index = 12\n",
        "#get image\n",
        "image = test_img[index]\n",
        "\n",
        "#compute hog feature vector for above image\n",
        "(h_vector, h_image) = compute_HOG(image)\n",
        "obtained_label = modelSVC.predict([h_vector])\n",
        "\n",
        "#comparison\n",
        "print(\"Actual Label =\")\n",
        "print(test_labels[index])\n",
        "print(\"Predicted Label =\")\n",
        "print(obtained_label[0])\n",
        "\n",
        "#visualize\n",
        "figr, (ax1, ax2) = plt.subplots(1, 2, figsize=(8, 4), sharex=True, sharey=True)\n",
        "ax1.axis('off')\n",
        "ax1.imshow(image, cmap=\"gray\")\n",
        "ax1.set_title('Input image')\n",
        "ax2.axis('off')\n",
        "ax2.imshow(h_image,cmap=plt.cm.gray)\n",
        "ax2.set_title('Histogram of Oriented Gradients')\n",
        "plt.show()\n",
        "\n"
      ],
      "execution_count": 15,
      "outputs": [
        {
          "output_type": "stream",
          "text": [
            "Actual Label =\n",
            "9\n",
            "Predicted Label =\n",
            "9\n"
          ],
          "name": "stdout"
        },
        {
          "output_type": "display_data",
          "data": {
            "image/png": "[encoded data removed]",
            "text/plain": [
              "<Figure size 576x288 with 2 Axes>"
            ]
          },
          "metadata": {
            "tags": [],
            "needs_background": "light"
          }
        }
      ]
    },
    {
      "cell_type": "code",
      "metadata": {
        "id": "BXUSqMLSkHwU"
      },
      "source": [
        ""
      ],
      "execution_count": 15,
      "outputs": []
    }
  ]
}